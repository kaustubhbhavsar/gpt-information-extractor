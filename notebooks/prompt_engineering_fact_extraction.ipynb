{
  "cells": [
    {
      "cell_type": "markdown",
      "metadata": {
        "id": "fkyQQ1FSt9zg"
      },
      "source": [
        "# Study: Extracting facts with GPT-3\n",
        "\n",
        "This study aims to investigate the utilization of GPT-3 for the extraction of factual information from Natural Language (NL) utterances. The objectives of this investigation include:\n",
        "\n",
        "  - Establishing a set of basic NL example utterances.\n",
        "\n",
        "  - Employing prompts to extract factual details from the aforementioned utterances."
      ]
    },
    {
      "cell_type": "markdown",
      "metadata": {
        "id": "Q9tOlkdTt9zl"
      },
      "source": [
        "### Setup"
      ]
    },
    {
      "cell_type": "code",
      "source": [
        "# install openai library\n",
        "!pip install openai --quiet"
      ],
      "metadata": {
        "id": "kp8n6GlUw3WQ"
      },
      "execution_count": null,
      "outputs": []
    },
    {
      "cell_type": "code",
      "execution_count": null,
      "metadata": {
        "id": "tCx0GZA9t9zm"
      },
      "outputs": [],
      "source": [
        "# import libraries\n",
        "import getpass\n",
        "import openai"
      ]
    },
    {
      "cell_type": "code",
      "source": [
        "# get and store openai API key\n",
        "openai.api_key = getpass.getpass('Enter OpenAI API key: ')"
      ],
      "metadata": {
        "colab": {
          "base_uri": "https://localhost:8080/"
        },
        "id": "GTyN9hiwxx1Z",
        "outputId": "7c476b2e-c460-4986-c85f-fa15c933e8ae"
      },
      "execution_count": null,
      "outputs": [
        {
          "name": "stdout",
          "output_type": "stream",
          "text": [
            "Enter your OpenAI API key: ··········\n"
          ]
        }
      ]
    },
    {
      "cell_type": "markdown",
      "metadata": {
        "id": "8hadQGeVt9zr"
      },
      "source": [
        "### Helper Functions"
      ]
    },
    {
      "cell_type": "code",
      "execution_count": null,
      "metadata": {
        "id": "zLHxhVFRt9zr"
      },
      "outputs": [],
      "source": [
        "def gpt3_complete(\n",
        "    prompt, \n",
        "    engine='text-davinci-003', \n",
        "    temperature=0.1, \n",
        "    max_tokens=200,\n",
        "    top_p=1.0, \n",
        "    frequency_penalty=0.0, \n",
        "    presence_penalty=0.0, \n",
        "    stop=None,\n",
        "    echo=False\n",
        "):\n",
        "    \"\"\"\n",
        "    Generates a completion based on the given prompt using the OpenAI GPT-3 model.\n",
        "\n",
        "    Parameters:\n",
        "        prompt (str): The text prompt to generate a completion for.\n",
        "        engine (str): The engine to use for completion. \n",
        "        temperature (float): The temperature parameter controlling the randomness of the generated text. \n",
        "        max_tokens (int): The maximum number of tokens in the generated completion.\n",
        "        top_p (float): The cumulative probability threshold for the top-p sampling algorithm. It controls the diversity of the generated text. \n",
        "        frequency_penalty (float): The frequency penalty to apply during completion. \n",
        "        presence_penalty (float): The presence penalty to apply during completion. \n",
        "        stop (str or list): The stop sequence(s) to use for stopping the generation.\n",
        "        echo (bool): Whether to include the prompt in the generated completion. Default is False.\n",
        "\n",
        "    Returns:\n",
        "        completion (str): The generated completion based on the prompt.\n",
        "    \"\"\"\n",
        "    response = openai.Completion.create(\n",
        "        engine=engine,\n",
        "        prompt=prompt,\n",
        "        temperature=temperature,\n",
        "        max_tokens=max_tokens,\n",
        "        top_p=top_p,\n",
        "        frequency_penalty=frequency_penalty,\n",
        "        presence_penalty=presence_penalty,\n",
        "        stop=stop,\n",
        "        echo=echo\n",
        "    )\n",
        "    \n",
        "    completion = response['choices'][0]['text']\n",
        "    return completion"
      ]
    },
    {
      "cell_type": "code",
      "execution_count": null,
      "metadata": {
        "id": "qGAYK5tPt9zs"
      },
      "outputs": [],
      "source": [
        "def apply_to_examples(\n",
        "    examples, \n",
        "    prompt_func, \n",
        "    temperature=0.1,\n",
        "    frequency_penalty=0,\n",
        "    presence_penalty=0\n",
        "):\n",
        "    \"\"\"\n",
        "    Applies the GPT-3 completion to a list of input examples.\n",
        "\n",
        "    Parameters:\n",
        "        examples (list): A list of input examples to generate completions for.\n",
        "        prompt_func (function): A function that takes an example as input and returns a prompt for GPT-3.\n",
        "        temperature (float): The temperature parameter controlling the randomness of the generated text.\n",
        "        frequency_penalty (float): The frequency penalty to apply during completion. \n",
        "        presence_penalty (float): The presence penalty to apply during completion. \n",
        "\n",
        "    Returns:\n",
        "        results (list): A list of generated completions for each input example.\n",
        "    \"\"\"\n",
        "    results = []\n",
        "    for example in examples:\n",
        "        print(f\">>> INPUT: {example}\")\n",
        "        result = gpt3_complete(prompt_func(example), temperature=temperature, frequency_penalty=frequency_penalty, presence_penalty=presence_penalty)\n",
        "        print(f\">>> OUTPUT:\\n{result}\")\n",
        "        results.append(result)\n",
        "        print(\"========================================\\n\\n\")\n",
        "    return results"
      ]
    },
    {
      "cell_type": "markdown",
      "metadata": {
        "id": "tg9Ra4JYt9zw"
      },
      "source": [
        "### Example Data\n",
        "\n",
        "Some standard data to exercise our solution below. That shall include *information input* to the system."
      ]
    },
    {
      "cell_type": "code",
      "execution_count": null,
      "metadata": {
        "id": "UTA1k2wSt9zw"
      },
      "outputs": [],
      "source": [
        "example_information_to_save = [\"Flu shot cost = $80\", \n",
        "                               \"things my boss likes: cricket, science and vegetarian food\",\n",
        "                               \"my wife wants a vegetarian food book\",\n",
        "                               \"sales guy email = jp@example.com\",\n",
        "                               \"vanessa's email vanessa@outlook.com, rember to send the ppts she asked\",\n",
        "                               \"+55 11 27670-0987 -> pedro whatsapp\",\n",
        "                               \"need to buy milk, eggs and bread\", \n",
        "                               \"need to sell old video game, chair\",\n",
        "                               \"december receipts for gym: yoga, ballet, ??\",\n",
        "                               \"book with KWG the hardware setup\",\n",
        "                               \"dog day with the foreign visitors\",\n",
        "                               \"event support: we failed :-(\",\n",
        "                               \"floor layout: we forgot various details!!\",\n",
        "                               \"first aid kit in the reception\",\n",
        "                               \"ask the pediatrician about when to start brushing teeth\"]"
      ]
    },
    {
      "cell_type": "markdown",
      "metadata": {
        "id": "7ncqGAl4t9zx"
      },
      "source": [
        "### Prompt Engineering: Fact Extraction"
      ]
    },
    {
      "cell_type": "markdown",
      "metadata": {
        "id": "Lz1Q8Ueft9zy"
      },
      "source": [
        "#### Prompt 1\n",
        "\n",
        "A very simple prompt."
      ]
    },
    {
      "cell_type": "code",
      "execution_count": null,
      "metadata": {
        "id": "d0EOrtu8t9zy"
      },
      "outputs": [],
      "source": [
        "def extraction_prompt_1(x):\n",
        "\n",
        "    prompt =\\\n",
        "f\"\"\"\n",
        "Extract pieces of information, like phone numbers, email addresses, names, trivia, reminders, etc.\n",
        "Input: {x}\n",
        "\"\"\"\n",
        "    return prompt "
      ]
    },
    {
      "cell_type": "code",
      "execution_count": null,
      "metadata": {
        "colab": {
          "base_uri": "https://localhost:8080/"
        },
        "id": "jp89WRXwt9zz",
        "outputId": "f835b1fe-60b4-48ef-880f-d597868a64bb"
      },
      "outputs": [
        {
          "output_type": "stream",
          "name": "stdout",
          "text": [
            ">>> INPUT: Flu shot cost = $80\n",
            ">>> OUTPUT:\n",
            "\n",
            "Output: Flu shot cost: $80\n",
            "========================================\n",
            "\n",
            "\n",
            ">>> INPUT: things my boss likes: cricket, science and vegetarian food\n",
            ">>> OUTPUT:\n",
            "\n",
            "Output:\n",
            "Interests: Cricket, Science, Vegetarian Food\n",
            "========================================\n",
            "\n",
            "\n",
            ">>> INPUT: my wife wants a vegetarian food book\n",
            ">>> OUTPUT:\n",
            "\n",
            "Output: None\n",
            "========================================\n",
            "\n",
            "\n",
            ">>> INPUT: sales guy email = jp@example.com\n",
            ">>> OUTPUT:\n",
            "\n",
            "Output: Email address: jp@example.com\n",
            "========================================\n",
            "\n",
            "\n",
            ">>> INPUT: vanessa's email vanessa@outlook.com, rember to send the ppts she asked\n",
            ">>> OUTPUT:\n",
            "\n",
            "Output: \n",
            "Name: Vanessa \n",
            "Email: vanessa@outlook.com \n",
            "Reminder: Send PPTs\n",
            "========================================\n",
            "\n",
            "\n",
            ">>> INPUT: +55 11 27670-0987 -> pedro whatsapp\n",
            ">>> OUTPUT:\n",
            "\n",
            "Output: Phone Number: +55 11 27670-0987; Name: Pedro; Reminder: Contact Pedro via WhatsApp.\n",
            "========================================\n",
            "\n",
            "\n",
            ">>> INPUT: need to buy milk, eggs and bread\n",
            ">>> OUTPUT:\n",
            "\n",
            "Output: None\n",
            "========================================\n",
            "\n",
            "\n",
            ">>> INPUT: need to sell old video game, chair\n",
            ">>> OUTPUT:\n",
            "\n",
            "Output: None\n",
            "========================================\n",
            "\n",
            "\n",
            ">>> INPUT: december receipts for gym: yoga, ballet, ??\n",
            ">>> OUTPUT:\n",
            "\n",
            "Output: December\n",
            "========================================\n",
            "\n",
            "\n",
            ">>> INPUT: book with KWG the hardware setup\n",
            ">>> OUTPUT:\n",
            "\n",
            "Output:\n",
            "KWG (Hardware Setup)\n",
            "========================================\n",
            "\n",
            "\n",
            ">>> INPUT: dog day with the foreign visitors\n",
            ">>> OUTPUT:\n",
            "\n",
            "Output: No information extracted.\n",
            "========================================\n",
            "\n",
            "\n",
            ">>> INPUT: event support: we failed :-(\n",
            ">>> OUTPUT:\n",
            "\n",
            "Output: No information extracted.\n",
            "========================================\n",
            "\n",
            "\n",
            ">>> INPUT: floor layout: we forgot various details!!\n",
            ">>> OUTPUT:\n",
            "\n",
            "Output:\n",
            "Reminder: Floor layout details\n",
            "========================================\n",
            "\n",
            "\n",
            ">>> INPUT: first aid kit in the reception\n",
            ">>> OUTPUT:\n",
            "Output: N/A\n",
            "========================================\n",
            "\n",
            "\n",
            ">>> INPUT: ask the pediatrician about when to start brushing teeth\n",
            ">>> OUTPUT:\n",
            "\n",
            "Output: No information extracted.\n",
            "========================================\n",
            "\n",
            "\n"
          ]
        },
        {
          "output_type": "execute_result",
          "data": {
            "text/plain": [
              "['\\nOutput: Flu shot cost: $80',\n",
              " '\\nOutput:\\nInterests: Cricket, Science, Vegetarian Food',\n",
              " '\\nOutput: None',\n",
              " '\\nOutput: Email address: jp@example.com',\n",
              " '\\nOutput: \\nName: Vanessa \\nEmail: vanessa@outlook.com \\nReminder: Send PPTs',\n",
              " '\\nOutput: Phone Number: +55 11 27670-0987; Name: Pedro; Reminder: Contact Pedro via WhatsApp.',\n",
              " '\\nOutput: None',\n",
              " '\\nOutput: None',\n",
              " '\\nOutput: December',\n",
              " '\\nOutput:\\nKWG (Hardware Setup)',\n",
              " '\\nOutput: No information extracted.',\n",
              " '\\nOutput: No information extracted.',\n",
              " '\\nOutput:\\nReminder: Floor layout details',\n",
              " 'Output: N/A',\n",
              " '\\nOutput: No information extracted.']"
            ]
          },
          "metadata": {},
          "execution_count": 8
        }
      ],
      "source": [
        "apply_to_examples(example_information_to_save, extraction_prompt_1, temperature=0.5)"
      ]
    },
    {
      "cell_type": "markdown",
      "metadata": {
        "id": "A0zIUc16t9z1"
      },
      "source": [
        "The current response lacks utility due to the following reasons: \n",
        "\n",
        "  - Firstly, the output merely reproduces the input in different words, failing to offer any substantial value. \n",
        "  \n",
        "  - Secondly, in another instance, the output does not provide any meaningful information whatsoever.\n",
        "  \n",
        "Being more specific on the kinds of outputs we want might be helpful."
      ]
    },
    {
      "cell_type": "markdown",
      "metadata": {
        "id": "2UxXE092t9z1"
      },
      "source": [
        "#### Prompt 2\n",
        "\n",
        "Including some desired output structure and semantics."
      ]
    },
    {
      "cell_type": "code",
      "execution_count": null,
      "metadata": {
        "id": "vlxKIBRrt9z2"
      },
      "outputs": [],
      "source": [
        "def extraction_prompt_2(x):\n",
        "\n",
        "    prompt =\\\n",
        "f\"\"\"\n",
        "Extract pieces of personal information, like phone numbers, email addresses, names, trivia, reminders, etc., as tuples with the following format: (Category, Key, Value)\n",
        "Input: {x}\n",
        "\"\"\"\n",
        "    return prompt "
      ]
    },
    {
      "cell_type": "code",
      "execution_count": null,
      "metadata": {
        "colab": {
          "base_uri": "https://localhost:8080/"
        },
        "id": "ujxmw3YPt9z3",
        "outputId": "3e09e3d6-b28e-48e6-faad-b7bca8bdb02f"
      },
      "outputs": [
        {
          "output_type": "stream",
          "name": "stdout",
          "text": [
            ">>> INPUT: Flu shot cost = $80\n",
            ">>> OUTPUT:\n",
            "\n",
            "Output: (\"Healthcare\", \"Flu shot cost\", \"$80\")\n",
            "========================================\n",
            "\n",
            "\n",
            ">>> INPUT: things my boss likes: cricket, science and vegetarian food\n",
            ">>> OUTPUT:\n",
            "\n",
            "Output: (Interests, Cricket, True), (Interests, Science, True), (Interests, Vegetarian Food, True)\n",
            "========================================\n",
            "\n",
            "\n",
            ">>> INPUT: my wife wants a vegetarian food book\n",
            ">>> OUTPUT:\n",
            "\n",
            "Output: (Category: Reminder, Key: Wife, Value: Vegetarian Food Book)\n",
            "========================================\n",
            "\n",
            "\n",
            ">>> INPUT: sales guy email = jp@example.com\n",
            ">>> OUTPUT:\n",
            "\n",
            "Output: ('email', 'sales guy', 'jp@example.com')\n",
            "========================================\n",
            "\n",
            "\n",
            ">>> INPUT: vanessa's email vanessa@outlook.com, rember to send the ppts she asked\n",
            ">>> OUTPUT:\n",
            "\n",
            "Output: (\"Email\", \"Vanessa\", \"vanessa@outlook.com\"), (\"Reminder\", \"Send PPTs\", \"She asked\")\n",
            "========================================\n",
            "\n",
            "\n",
            ">>> INPUT: +55 11 27670-0987 -> pedro whatsapp\n",
            ">>> OUTPUT:\n",
            "\n",
            "Output: (\"WhatsApp\", \"Pedro\", \"+55 11 27670-0987\")\n",
            "========================================\n",
            "\n",
            "\n",
            ">>> INPUT: need to buy milk, eggs and bread\n",
            ">>> OUTPUT:\n",
            "\n",
            "Output: (Reminder, Shopping List, Milk, Eggs, Bread)\n",
            "========================================\n",
            "\n",
            "\n",
            ">>> INPUT: need to sell old video game, chair\n",
            ">>> OUTPUT:\n",
            "\n",
            "Output: (Category, Key, Value)\n",
            "('Item', 'Video Game', 'Sell')\n",
            "('Item', 'Chair', 'Sell')\n",
            "========================================\n",
            "\n",
            "\n",
            ">>> INPUT: december receipts for gym: yoga, ballet, ??\n",
            ">>> OUTPUT:\n",
            "\n",
            "Output: (\"Receipts\", \"Gym\", \"Yoga, Ballet, ??\")\n",
            "========================================\n",
            "\n",
            "\n",
            ">>> INPUT: book with KWG the hardware setup\n",
            ">>> OUTPUT:\n",
            "\n",
            "Output: (\"Category\", \"Hardware Setup\", \"KWG\")\n",
            "========================================\n",
            "\n",
            "\n",
            ">>> INPUT: dog day with the foreign visitors\n",
            ">>> OUTPUT:\n",
            "Output: N/A\n",
            "========================================\n",
            "\n",
            "\n",
            ">>> INPUT: event support: we failed :-(\n",
            ">>> OUTPUT:\n",
            "\n",
            "Output: (Event, Support, Failed)\n",
            "========================================\n",
            "\n",
            "\n",
            ">>> INPUT: floor layout: we forgot various details!!\n",
            ">>> OUTPUT:\n",
            "\n",
            "Output: (Category, \"Floor Layout\", \"We forgot various details!!\")\n",
            "========================================\n",
            "\n",
            "\n",
            ">>> INPUT: first aid kit in the reception\n",
            ">>> OUTPUT:\n",
            "\n",
            "Output: (Reminder, \"First Aid Kit\", \"Reception\")\n",
            "========================================\n",
            "\n",
            "\n",
            ">>> INPUT: ask the pediatrician about when to start brushing teeth\n",
            ">>> OUTPUT:\n",
            "\n",
            "Output: (Reminder, \"Brushing Teeth\", \"Start brushing teeth according to pediatrician's instructions\")\n",
            "========================================\n",
            "\n",
            "\n"
          ]
        },
        {
          "output_type": "execute_result",
          "data": {
            "text/plain": [
              "['\\nOutput: (\"Healthcare\", \"Flu shot cost\", \"$80\")',\n",
              " '\\nOutput: (Interests, Cricket, True), (Interests, Science, True), (Interests, Vegetarian Food, True)',\n",
              " '\\nOutput: (Category: Reminder, Key: Wife, Value: Vegetarian Food Book)',\n",
              " \"\\nOutput: ('email', 'sales guy', 'jp@example.com')\",\n",
              " '\\nOutput: (\"Email\", \"Vanessa\", \"vanessa@outlook.com\"), (\"Reminder\", \"Send PPTs\", \"She asked\")',\n",
              " '\\nOutput: (\"WhatsApp\", \"Pedro\", \"+55 11 27670-0987\")',\n",
              " '\\nOutput: (Reminder, Shopping List, Milk, Eggs, Bread)',\n",
              " \"\\nOutput: (Category, Key, Value)\\n('Item', 'Video Game', 'Sell')\\n('Item', 'Chair', 'Sell')\",\n",
              " '\\nOutput: (\"Receipts\", \"Gym\", \"Yoga, Ballet, ??\")',\n",
              " '\\nOutput: (\"Category\", \"Hardware Setup\", \"KWG\")',\n",
              " 'Output: N/A',\n",
              " '\\nOutput: (Event, Support, Failed)',\n",
              " '\\nOutput: (Category, \"Floor Layout\", \"We forgot various details!!\")',\n",
              " '\\nOutput: (Reminder, \"First Aid Kit\", \"Reception\")',\n",
              " '\\nOutput: (Reminder, \"Brushing Teeth\", \"Start brushing teeth according to pediatrician\\'s instructions\")']"
            ]
          },
          "metadata": {},
          "execution_count": 10
        }
      ],
      "source": [
        "apply_to_examples(example_information_to_save, extraction_prompt_2, temperature=0.5)"
      ]
    },
    {
      "cell_type": "markdown",
      "metadata": {
        "id": "aTh4Vdsst9z4"
      },
      "source": [
        "We see various problems: \n",
        "\n",
        "  - Firstly, the generated result includes the term \"Output\", which does not align with our desired outcome of obtaining tuples exclusively.\n",
        "\n",
        "  - Secondly, multiple factual details are occasionally delimited by commas rather than newlines, which deviates from the preferred format\n",
        "\n",
        "  - Moreover, certain extractions yield inaccurate information, indicating the presence of errors.\n",
        "\n",
        "Adding an example might make our intent more clear. "
      ]
    },
    {
      "cell_type": "markdown",
      "metadata": {
        "id": "UoxQXFort9z4"
      },
      "source": [
        "#### Prompt 3\n",
        "\n",
        "Adding an example."
      ]
    },
    {
      "cell_type": "code",
      "execution_count": null,
      "metadata": {
        "id": "rJyj0ijat9z4"
      },
      "outputs": [],
      "source": [
        "def extraction_prompt_3(x):\n",
        "\n",
        "    prompt =\\\n",
        "f\"\"\"\n",
        "Extract pieces of personal information, like phone numbers, email addresses, names, trivia, reminders, etc., as tuples with the following format: (Category, Key, Value)\n",
        "\n",
        "Example input: \"Mom's phone number is 555-555-5555\"\n",
        "Example output: (\"Family\", \"mom's phone number\", \"555-555-5555\")\n",
        "\n",
        "Input: {x}\n",
        "Output: \n",
        "\"\"\"\n",
        "    return prompt "
      ]
    },
    {
      "cell_type": "code",
      "execution_count": null,
      "metadata": {
        "colab": {
          "base_uri": "https://localhost:8080/"
        },
        "id": "rL5OafCWt9z5",
        "outputId": "5def5089-8e6e-4a56-f7a6-3acd4c4a9af3"
      },
      "outputs": [
        {
          "output_type": "stream",
          "name": "stdout",
          "text": [
            ">>> INPUT: Flu shot cost = $80\n",
            ">>> OUTPUT:\n",
            "(\"Health\", \"flu shot cost\", \"$80\")\n",
            "========================================\n",
            "\n",
            "\n",
            ">>> INPUT: things my boss likes: cricket, science and vegetarian food\n",
            ">>> OUTPUT:\n",
            "(\"Interests\", \"cricket\", \"yes\")\n",
            "(\"Interests\", \"science\", \"yes\")\n",
            "(\"Interests\", \"vegetarian food\", \"yes\")\n",
            "========================================\n",
            "\n",
            "\n",
            ">>> INPUT: my wife wants a vegetarian food book\n",
            ">>> OUTPUT:\n",
            "(\"Food Preferences\", \"wife's preference\", \"vegetarian\")\n",
            "========================================\n",
            "\n",
            "\n",
            ">>> INPUT: sales guy email = jp@example.com\n",
            ">>> OUTPUT:\n",
            "(\"Contacts\", \"sales guy email\", \"jp@example.com\")\n",
            "========================================\n",
            "\n",
            "\n",
            ">>> INPUT: vanessa's email vanessa@outlook.com, rember to send the ppts she asked\n",
            ">>> OUTPUT:\n",
            "(\"Reminder\", \"send ppts\", \"vanessa@outlook.com\")\n",
            "========================================\n",
            "\n",
            "\n",
            ">>> INPUT: +55 11 27670-0987 -> pedro whatsapp\n",
            ">>> OUTPUT:\n",
            "(\"Contacts\", \"Pedro's Whatsapp\", \"+55 11 27670-0987\")\n",
            "========================================\n",
            "\n",
            "\n",
            ">>> INPUT: need to buy milk, eggs and bread\n",
            ">>> OUTPUT:\n",
            "(\"Shopping List\", \"milk\", \"buy\")\n",
            "(\"Shopping List\", \"eggs\", \"buy\")\n",
            "(\"Shopping List\", \"bread\", \"buy\")\n",
            "========================================\n",
            "\n",
            "\n",
            ">>> INPUT: need to sell old video game, chair\n",
            ">>> OUTPUT:\n",
            "(\"Item\", \"video game\", \"sell\")\n",
            "(\"Item\", \"chair\", \"sell\")\n",
            "========================================\n",
            "\n",
            "\n",
            ">>> INPUT: december receipts for gym: yoga, ballet, ??\n",
            ">>> OUTPUT:\n",
            "(\"Receipts\", \"Gym\", \"Yoga, Ballet, ??\")\n",
            "========================================\n",
            "\n",
            "\n",
            ">>> INPUT: book with KWG the hardware setup\n",
            ">>> OUTPUT:\n",
            "(\"Book\", \"KWG the hardware setup\", \"\")\n",
            "========================================\n",
            "\n",
            "\n",
            ">>> INPUT: dog day with the foreign visitors\n",
            ">>> OUTPUT:\n",
            "(\"Activity\", \"dog day\", \"with the foreign visitors\")\n",
            "========================================\n",
            "\n",
            "\n",
            ">>> INPUT: event support: we failed :-(\n",
            ">>> OUTPUT:\n",
            "(\"Event\", \"Support\", \"We failed :-(\")\n",
            "========================================\n",
            "\n",
            "\n",
            ">>> INPUT: floor layout: we forgot various details!!\n",
            ">>> OUTPUT:\n",
            "(\"Layout\", \"floor layout\", \"we forgot various details!!\")\n",
            "========================================\n",
            "\n",
            "\n",
            ">>> INPUT: first aid kit in the reception\n",
            ">>> OUTPUT:\n",
            "(\"Reminder\", \"first aid kit\", \"reception\")\n",
            "========================================\n",
            "\n",
            "\n",
            ">>> INPUT: ask the pediatrician about when to start brushing teeth\n",
            ">>> OUTPUT:\n",
            "(\"Health\", \"pediatrician advice on brushing teeth\", \"when to start brushing teeth\")\n",
            "========================================\n",
            "\n",
            "\n"
          ]
        },
        {
          "output_type": "execute_result",
          "data": {
            "text/plain": [
              "['(\"Health\", \"flu shot cost\", \"$80\")',\n",
              " '(\"Interests\", \"cricket\", \"yes\")\\n(\"Interests\", \"science\", \"yes\")\\n(\"Interests\", \"vegetarian food\", \"yes\")',\n",
              " '(\"Food Preferences\", \"wife\\'s preference\", \"vegetarian\")',\n",
              " '(\"Contacts\", \"sales guy email\", \"jp@example.com\")',\n",
              " '(\"Reminder\", \"send ppts\", \"vanessa@outlook.com\")',\n",
              " '(\"Contacts\", \"Pedro\\'s Whatsapp\", \"+55 11 27670-0987\")',\n",
              " '(\"Shopping List\", \"milk\", \"buy\")\\n(\"Shopping List\", \"eggs\", \"buy\")\\n(\"Shopping List\", \"bread\", \"buy\")',\n",
              " '(\"Item\", \"video game\", \"sell\")\\n(\"Item\", \"chair\", \"sell\")',\n",
              " '(\"Receipts\", \"Gym\", \"Yoga, Ballet, ??\")',\n",
              " '(\"Book\", \"KWG the hardware setup\", \"\")',\n",
              " '(\"Activity\", \"dog day\", \"with the foreign visitors\")',\n",
              " '(\"Event\", \"Support\", \"We failed :-(\")',\n",
              " '(\"Layout\", \"floor layout\", \"we forgot various details!!\")',\n",
              " '(\"Reminder\", \"first aid kit\", \"reception\")',\n",
              " '(\"Health\", \"pediatrician advice on brushing teeth\", \"when to start brushing teeth\")']"
            ]
          },
          "metadata": {},
          "execution_count": 12
        }
      ],
      "source": [
        "apply_to_examples(example_information_to_save, extraction_prompt_3, temperature=0.5)"
      ]
    },
    {
      "cell_type": "markdown",
      "metadata": {
        "id": "gMf0kdyLt9z6"
      },
      "source": [
        "Upon careful evaluation, several notable enhancements have become apparent:\n",
        "\n",
        "  - Fact strings are consistently quoted.\n",
        "\n",
        "  - Multiple facts are put one per line.\n",
        "\n",
        "  - The information recorded is overall more detailed.\n",
        "\n",
        "  - The “Sales” category sounds more appropriate than the more general \"Email\" we had before.\n",
        "\n",
        "\n",
        "\n",
        "Despite the aforementioned improvements, certain irregularities persist within the current context:\n",
        "\n",
        "  - Firstly, in the second example, the representation of the boss' preferences as a Boolean list appears awkward and requires refinement. \n",
        "  \n",
        "  - Secondly, in the final example, it would be preferable to separate \"yoga,\" \"ballet,\" and \"??\" as distinct facts instead of combining them. \n",
        "  \n",
        "  - Lastly, the existing categorization of the facts appears arbitrary and lacks a cohesive framework. \n",
        "  \n",
        "Further adjustments are necessary to address these issues effectively."
      ]
    },
    {
      "cell_type": "markdown",
      "metadata": {
        "id": "zgi6FXAYt9z6"
      },
      "source": [
        "#### Prompt 4\n",
        "\n",
        "In order to tackle the aforementioned concerns:\n",
        "\n",
        "  - The subsequent prompt incorporates a multi-fact example, i.e., an additional assumption concerning multiple facts.\n",
        "  \n",
        "  - A constraint on the permissible categories. \n",
        "\n",
        "This updated prompt exhibits a higher level of dynamism, allowing for user input and valid categories to be treated as parameters."
      ]
    },
    {
      "cell_type": "code",
      "execution_count": null,
      "metadata": {
        "id": "YayvvWKVt9z7"
      },
      "outputs": [],
      "source": [
        "def extraction_prompt_4(x, categories=[\"Family\", \"Work\", \"Friends\", \"Shopping\", \n",
        "                                       \"Health\", \"Finance\", \"Travel\", \"Home\", \n",
        "                                       \"Pets\", \"Hobbies\", \"Other\"]):\n",
        "\n",
        "    prompt =\\\n",
        "f\"\"\"\n",
        "Extract pieces of personal information, like phone numbers, email addresses, names, trivia, reminders, etc., as tuples with the following format: (Category, Key, Value)\n",
        "Assume everything mentioned refers to the same thing. Constraints:\n",
        "  - Allowed Categories: {', '.join(categories)}\n",
        "\n",
        "\n",
        "Example input: \"Mom's phone number is 555-555-5555\"\n",
        "Example output: (\"Family\", \"mom's phone number\", \"555-555-5555\")\n",
        "\n",
        "Example input: \"Need to do: lab work, ultrasound, buy aspirin\"\n",
        "Example output: \n",
        "(\"Health\", \"to do\", \"lab work\")\n",
        "(\"Health\", \"to do\", \"ultrasound\")\n",
        "(\"Health\", \"buy\", \"aspirin\")\t\n",
        "\n",
        "Input: {x}\n",
        "Output: \n",
        "\"\"\"\n",
        "    return prompt "
      ]
    },
    {
      "cell_type": "code",
      "execution_count": null,
      "metadata": {
        "colab": {
          "base_uri": "https://localhost:8080/"
        },
        "id": "vZIYWPAtt9z7",
        "outputId": "c980452c-3eb2-415f-e994-16fd9c2ce741"
      },
      "outputs": [
        {
          "output_type": "stream",
          "name": "stdout",
          "text": [
            ">>> INPUT: Flu shot cost = $80\n",
            ">>> OUTPUT:\n",
            "(\"Health\", \"flu shot cost\", \"$80\")\n",
            "========================================\n",
            "\n",
            "\n",
            ">>> INPUT: things my boss likes: cricket, science and vegetarian food\n",
            ">>> OUTPUT:\n",
            "(\"Work\", \"likes\", \"cricket\")\n",
            "(\"Work\", \"likes\", \"science\")\n",
            "(\"Work\", \"likes\", \"vegetarian food\")\n",
            "========================================\n",
            "\n",
            "\n",
            ">>> INPUT: my wife wants a vegetarian food book\n",
            ">>> OUTPUT:\n",
            "(\"Shopping\", \"vegetarian food book\", \"wife\")\n",
            "========================================\n",
            "\n",
            "\n",
            ">>> INPUT: sales guy email = jp@example.com\n",
            ">>> OUTPUT:\n",
            "(\"Work\", \"sales guy email\", \"jp@example.com\")\n",
            "========================================\n",
            "\n",
            "\n",
            ">>> INPUT: vanessa's email vanessa@outlook.com, rember to send the ppts she asked\n",
            ">>> OUTPUT:\n",
            "(\"Work\", \"vanessa's email\", \"vanessa@outlook.com\")\n",
            "(\"Work\", \"remember\", \"send ppts\")\n",
            "========================================\n",
            "\n",
            "\n",
            ">>> INPUT: +55 11 27670-0987 -> pedro whatsapp\n",
            ">>> OUTPUT:\n",
            "(\"Friends\", \"Pedro's Whatsapp\", \"+55 11 27670-0987\")\n",
            "========================================\n",
            "\n",
            "\n",
            ">>> INPUT: need to buy milk, eggs and bread\n",
            ">>> OUTPUT:\n",
            "(\"Shopping\", \"buy\", \"milk\")\n",
            "(\"Shopping\", \"buy\", \"eggs\")\n",
            "(\"Shopping\", \"buy\", \"bread\")\n",
            "========================================\n",
            "\n",
            "\n",
            ">>> INPUT: need to sell old video game, chair\n",
            ">>> OUTPUT:\n",
            "(\"Home\", \"sell\", \"old video game\")\n",
            "(\"Home\", \"sell\", \"chair\")\n",
            "========================================\n",
            "\n",
            "\n",
            ">>> INPUT: december receipts for gym: yoga, ballet, ??\n",
            ">>> OUTPUT:\n",
            "(\"Hobbies\", \"gym\", \"yoga\")\n",
            "(\"Hobbies\", \"gym\", \"ballet\")\n",
            "========================================\n",
            "\n",
            "\n",
            ">>> INPUT: book with KWG the hardware setup\n",
            ">>> OUTPUT:\n",
            "(\"Hobbies\", \"book\", \"KWG the hardware setup\")\n",
            "========================================\n",
            "\n",
            "\n",
            ">>> INPUT: dog day with the foreign visitors\n",
            ">>> OUTPUT:\n",
            "(\"Hobbies\", \"dog day\", \"with the foreign visitors\")\n",
            "========================================\n",
            "\n",
            "\n",
            ">>> INPUT: event support: we failed :-(\n",
            ">>> OUTPUT:\n",
            "(\"Other\", \"event support\", \"we failed\")\n",
            "========================================\n",
            "\n",
            "\n",
            ">>> INPUT: floor layout: we forgot various details!!\n",
            ">>> OUTPUT:\n",
            "(\"Home\", \"floor layout\", \"we forgot various details!!\")\n",
            "========================================\n",
            "\n",
            "\n",
            ">>> INPUT: first aid kit in the reception\n",
            ">>> OUTPUT:\n",
            "(\"Home\", \"first aid kit\", \"reception\")\n",
            "========================================\n",
            "\n",
            "\n",
            ">>> INPUT: ask the pediatrician about when to start brushing teeth\n",
            ">>> OUTPUT:\n",
            "(\"Health\", \"pediatrician question\", \"when to start brushing teeth\")\n",
            "========================================\n",
            "\n",
            "\n"
          ]
        },
        {
          "output_type": "execute_result",
          "data": {
            "text/plain": [
              "['(\"Health\", \"flu shot cost\", \"$80\")',\n",
              " '(\"Work\", \"likes\", \"cricket\")\\n(\"Work\", \"likes\", \"science\")\\n(\"Work\", \"likes\", \"vegetarian food\")',\n",
              " '(\"Shopping\", \"vegetarian food book\", \"wife\")',\n",
              " '(\"Work\", \"sales guy email\", \"jp@example.com\")',\n",
              " '(\"Work\", \"vanessa\\'s email\", \"vanessa@outlook.com\")\\n(\"Work\", \"remember\", \"send ppts\")',\n",
              " '(\"Friends\", \"Pedro\\'s Whatsapp\", \"+55 11 27670-0987\")',\n",
              " '(\"Shopping\", \"buy\", \"milk\")\\n(\"Shopping\", \"buy\", \"eggs\")\\n(\"Shopping\", \"buy\", \"bread\")',\n",
              " '(\"Home\", \"sell\", \"old video game\")\\n(\"Home\", \"sell\", \"chair\")',\n",
              " '(\"Hobbies\", \"gym\", \"yoga\")\\n(\"Hobbies\", \"gym\", \"ballet\")',\n",
              " '(\"Hobbies\", \"book\", \"KWG the hardware setup\")',\n",
              " '(\"Hobbies\", \"dog day\", \"with the foreign visitors\")',\n",
              " '(\"Other\", \"event support\", \"we failed\")',\n",
              " '(\"Home\", \"floor layout\", \"we forgot various details!!\")',\n",
              " '(\"Home\", \"first aid kit\", \"reception\")',\n",
              " '(\"Health\", \"pediatrician question\", \"when to start brushing teeth\")']"
            ]
          },
          "metadata": {},
          "execution_count": 14
        }
      ],
      "source": [
        "apply_to_examples(example_information_to_save, extraction_prompt_4, temperature=0.5)"
      ]
    },
    {
      "cell_type": "markdown",
      "metadata": {
        "id": "kEy8ZLPtt9z8"
      },
      "source": [
        "The revised version demonstrates notable improvements. The categories now adhere to the specified constraints, and inputs are appropriately segmented into separate facts. \n",
        "\n",
        "However, it is worth noting that the category \"Hobbies\" is misleading since no information is provided regarding the receipts associated with it. Additionally, the representation of the pediatrician fact appears more concise than the desired level of detail. These observations highlight areas that still require attention and refinement."
      ]
    },
    {
      "cell_type": "markdown",
      "metadata": {
        "id": "8ajoXvZAt9z9"
      },
      "source": [
        "#### Prompt 5\n",
        "\n",
        "To enhance the comprehensiveness of our factual information, we propose introducing additional fields, namely \"Type\" and \"People.\" By incorporating these new fields, we aim to absorb the provided information more effectively and increase the expressivity of our facts. This extension will allow for a more detailed and nuanced representation of the data, leading to improved accuracy and understanding."
      ]
    },
    {
      "cell_type": "code",
      "execution_count": null,
      "metadata": {
        "id": "FHxm23Ett9z-"
      },
      "outputs": [],
      "source": [
        "def extraction_prompt_5(x, categories=[\"Family\", \"Work\", \"Friends\", \"Shopping\", \n",
        "                                       \"Health\", \"Finance\", \"Travel\", \"Home\", \n",
        "                                       \"Pets\", \"Hobbies\", \"Other\"]):\n",
        "\n",
        "    prompt =\\\n",
        "f\"\"\"\n",
        "Extract pieces of personal information, like phone numbers, email addresses, names, trivia, reminders, etc., as tuples with the following format: (Category, Type, People, Key, Value)\n",
        "Assume everything mentioned refers to the same thing. Constraints:\n",
        "  - Allowed Categories: {', '.join(categories)}\n",
        "  - Allowed Types: \"List\", \"Email\", \"Phone\", \"Address\", \"Document\", \"Pendency\", \"Price\", \"Reminder\", \"Note\", \"Doubt\", \"Wish\", \"Other\"\n",
        "  - People contain the name or description of the people or organizations concerned, or is empty if no person or organization is mentioned.\n",
        "  \n",
        "Example input: \"Mom's phone number is 555-555-5555\"\n",
        "Example output: (\"Family\", \"Phone\", \"mom\", \"mom's number\", \"555-555-5555\")\n",
        "\n",
        "Example input: \"email of the building administration = adm@example.com\"\n",
        "Example output: (\"Work\", \"Email\", \"building administration\", \"email\", \"adm@example.com\")\n",
        "\n",
        "Example input: \"Need to do: lab work, ultrasound, buy aspirin\"\n",
        "Example output: \n",
        "(\"Health\", \"List\", \"\", \"to do\", \"lab work\")\n",
        "(\"Health\", \"List\", \"\", \"to do\", \"ultrasound\")\n",
        "(\"Shopping\", \"List\", \"\", \"aspirin\", \"buy\")\t\n",
        "\n",
        "Input: {x}\n",
        "Output: \n",
        "\"\"\"\n",
        "    return prompt "
      ]
    },
    {
      "cell_type": "code",
      "execution_count": null,
      "metadata": {
        "colab": {
          "base_uri": "https://localhost:8080/"
        },
        "id": "wHoq_JMJt9z-",
        "outputId": "1707f536-6979-4817-cf67-acaff2232314"
      },
      "outputs": [
        {
          "output_type": "stream",
          "name": "stdout",
          "text": [
            ">>> INPUT: Flu shot cost = $80\n",
            ">>> OUTPUT:\n",
            "(\"Health\", \"Price\", \"\", \"flu shot\", \"$80\")\n",
            "========================================\n",
            "\n",
            "\n",
            ">>> INPUT: things my boss likes: cricket, science and vegetarian food\n",
            ">>> OUTPUT:\n",
            "(\"Work\", \"List\", \"boss\", \"likes\", \"cricket\")\n",
            "(\"Work\", \"List\", \"boss\", \"likes\", \"science\")\n",
            "(\"Work\", \"List\", \"boss\", \"likes\", \"vegetarian food\")\n",
            "========================================\n",
            "\n",
            "\n",
            ">>> INPUT: my wife wants a vegetarian food book\n",
            ">>> OUTPUT:\n",
            "(\"Home\", \"Wish\", \"wife\", \"vegetarian food book\", \"\")\n",
            "========================================\n",
            "\n",
            "\n",
            ">>> INPUT: sales guy email = jp@example.com\n",
            ">>> OUTPUT:\n",
            "(\"Work\", \"Email\", \"sales guy\", \"email\", \"jp@example.com\")\n",
            "========================================\n",
            "\n",
            "\n",
            ">>> INPUT: vanessa's email vanessa@outlook.com, rember to send the ppts she asked\n",
            ">>> OUTPUT:\n",
            "(\"Friends\", \"Email\", \"vanessa\", \"vanessa's email\", \"vanessa@outlook.com\")\n",
            "(\"Friends\", \"Reminder\", \"vanessa\", \"send ppts\", \"\")\n",
            "========================================\n",
            "\n",
            "\n",
            ">>> INPUT: +55 11 27670-0987 -> pedro whatsapp\n",
            ">>> OUTPUT:\n",
            "(\"Friends\", \"Phone\", \"Pedro\", \"Whatsapp\", \"+55 11 27670-0987\")\n",
            "========================================\n",
            "\n",
            "\n",
            ">>> INPUT: need to buy milk, eggs and bread\n",
            ">>> OUTPUT:\n",
            "(\"Shopping\", \"List\", \"\", \"milk\", \"buy\")\n",
            "(\"Shopping\", \"List\", \"\", \"eggs\", \"buy\")\n",
            "(\"Shopping\", \"List\", \"\", \"bread\", \"buy\")\n",
            "========================================\n",
            "\n",
            "\n",
            ">>> INPUT: need to sell old video game, chair\n",
            ">>> OUTPUT:\n",
            "(\"Home\", \"List\", \"\", \"to sell\", \"old video game\")\n",
            "(\"Home\", \"List\", \"\", \"to sell\", \"chair\")\n",
            "========================================\n",
            "\n",
            "\n",
            ">>> INPUT: december receipts for gym: yoga, ballet, ??\n",
            ">>> OUTPUT:\n",
            "(\"Finance\", \"Document\", \"gym\", \"december receipts\", \"yoga\")\n",
            "(\"Finance\", \"Document\", \"gym\", \"december receipts\", \"ballet\")\n",
            "(\"Finance\", \"Document\", \"gym\", \"december receipts\", \"??\")\n",
            "========================================\n",
            "\n",
            "\n",
            ">>> INPUT: book with KWG the hardware setup\n",
            ">>> OUTPUT:\n",
            "(\"Other\", \"Document\", \"KWG\", \"hardware setup\", \"book\")\n",
            "========================================\n",
            "\n",
            "\n",
            ">>> INPUT: dog day with the foreign visitors\n",
            ">>> OUTPUT:\n",
            "(\"Pets\", \"Reminder\", \"foreign visitors\", \"dog day\", \"\")\n",
            "========================================\n",
            "\n",
            "\n",
            ">>> INPUT: event support: we failed :-(\n",
            ">>> OUTPUT:\n",
            "(\"Other\", \"Note\", \"event support\", \"status\", \"failed\")\n",
            "========================================\n",
            "\n",
            "\n",
            ">>> INPUT: floor layout: we forgot various details!!\n",
            ">>> OUTPUT:\n",
            "(\"Home\", \"Document\", \"\", \"floor layout\", \"we forgot various details!!\")\n",
            "========================================\n",
            "\n",
            "\n",
            ">>> INPUT: first aid kit in the reception\n",
            ">>> OUTPUT:\n",
            "(\"Home\", \"List\", \"\", \"first aid kit\", \"reception\")\n",
            "========================================\n",
            "\n",
            "\n",
            ">>> INPUT: ask the pediatrician about when to start brushing teeth\n",
            ">>> OUTPUT:\n",
            "(\"Health\", \"Doubt\", \"pediatrician\", \"brushing teeth\", \"when to start\")\n",
            "========================================\n",
            "\n",
            "\n"
          ]
        },
        {
          "output_type": "execute_result",
          "data": {
            "text/plain": [
              "['(\"Health\", \"Price\", \"\", \"flu shot\", \"$80\")',\n",
              " '(\"Work\", \"List\", \"boss\", \"likes\", \"cricket\")\\n(\"Work\", \"List\", \"boss\", \"likes\", \"science\")\\n(\"Work\", \"List\", \"boss\", \"likes\", \"vegetarian food\")',\n",
              " '(\"Home\", \"Wish\", \"wife\", \"vegetarian food book\", \"\")',\n",
              " '(\"Work\", \"Email\", \"sales guy\", \"email\", \"jp@example.com\")',\n",
              " '(\"Friends\", \"Email\", \"vanessa\", \"vanessa\\'s email\", \"vanessa@outlook.com\")\\n(\"Friends\", \"Reminder\", \"vanessa\", \"send ppts\", \"\")',\n",
              " '(\"Friends\", \"Phone\", \"Pedro\", \"Whatsapp\", \"+55 11 27670-0987\")',\n",
              " '(\"Shopping\", \"List\", \"\", \"milk\", \"buy\")\\n(\"Shopping\", \"List\", \"\", \"eggs\", \"buy\")\\n(\"Shopping\", \"List\", \"\", \"bread\", \"buy\")',\n",
              " '(\"Home\", \"List\", \"\", \"to sell\", \"old video game\")\\n(\"Home\", \"List\", \"\", \"to sell\", \"chair\")',\n",
              " '(\"Finance\", \"Document\", \"gym\", \"december receipts\", \"yoga\")\\n(\"Finance\", \"Document\", \"gym\", \"december receipts\", \"ballet\")\\n(\"Finance\", \"Document\", \"gym\", \"december receipts\", \"??\")',\n",
              " '(\"Other\", \"Document\", \"KWG\", \"hardware setup\", \"book\")',\n",
              " '(\"Pets\", \"Reminder\", \"foreign visitors\", \"dog day\", \"\")',\n",
              " '(\"Other\", \"Note\", \"event support\", \"status\", \"failed\")',\n",
              " '(\"Home\", \"Document\", \"\", \"floor layout\", \"we forgot various details!!\")',\n",
              " '(\"Home\", \"List\", \"\", \"first aid kit\", \"reception\")',\n",
              " '(\"Health\", \"Doubt\", \"pediatrician\", \"brushing teeth\", \"when to start\")']"
            ]
          },
          "metadata": {},
          "execution_count": 16
        }
      ],
      "source": [
        "apply_to_examples(example_information_to_save, extraction_prompt_5, temperature=0.5)"
      ]
    },
    {
      "cell_type": "markdown",
      "metadata": {
        "id": "DABhkHmBt9z_"
      },
      "source": [
        "The progress made thus far is commendable. However, there is an issue with the generated output for the \"December receipts\" result, which appears to be disordered. \n",
        "\n",
        "In an effort to rectify this, we will refrain from modifying the prompt itself. Instead, we will explore the option of reducing the temperature parameter provided to GPT-3. This parameter influences the level of creativity in the generated output. By decreasing the temperature, we aim to obtain more structured and orderly results that align better with the desired format and presentation."
      ]
    },
    {
      "cell_type": "code",
      "execution_count": null,
      "metadata": {
        "colab": {
          "base_uri": "https://localhost:8080/"
        },
        "id": "qukI51Fct9z_",
        "outputId": "f363d790-ac56-4cc0-d5a9-a695ec9defe2"
      },
      "outputs": [
        {
          "output_type": "stream",
          "name": "stdout",
          "text": [
            ">>> INPUT: Flu shot cost = $80\n",
            ">>> OUTPUT:\n",
            "(\"Health\", \"Price\", \"\", \"flu shot\", \"$80\")\n",
            "========================================\n",
            "\n",
            "\n",
            ">>> INPUT: things my boss likes: cricket, science and vegetarian food\n",
            ">>> OUTPUT:\n",
            "(\"Work\", \"List\", \"boss\", \"likes\", \"cricket\")\n",
            "(\"Work\", \"List\", \"boss\", \"likes\", \"science\")\n",
            "(\"Work\", \"List\", \"boss\", \"likes\", \"vegetarian food\")\n",
            "========================================\n",
            "\n",
            "\n",
            ">>> INPUT: my wife wants a vegetarian food book\n",
            ">>> OUTPUT:\n",
            "(\"Home\", \"Wish\", \"wife\", \"vegetarian food book\", \"\")\n",
            "========================================\n",
            "\n",
            "\n",
            ">>> INPUT: sales guy email = jp@example.com\n",
            ">>> OUTPUT:\n",
            "(\"Work\", \"Email\", \"sales guy\", \"email\", \"jp@example.com\")\n",
            "========================================\n",
            "\n",
            "\n",
            ">>> INPUT: vanessa's email vanessa@outlook.com, rember to send the ppts she asked\n",
            ">>> OUTPUT:\n",
            "(\"Friends\", \"Email\", \"Vanessa\", \"Vanessa's email\", \"vanessa@outlook.com\")\n",
            "(\"Pendency\", \"Reminder\", \"\", \"send ppts\", \"Vanessa\")\n",
            "========================================\n",
            "\n",
            "\n",
            ">>> INPUT: +55 11 27670-0987 -> pedro whatsapp\n",
            ">>> OUTPUT:\n",
            "(\"Friends\", \"Phone\", \"pedro\", \"whatsapp\", \"+55 11 27670-0987\")\n",
            "========================================\n",
            "\n",
            "\n",
            ">>> INPUT: need to buy milk, eggs and bread\n",
            ">>> OUTPUT:\n",
            "(\"Shopping\", \"List\", \"\", \"milk\", \"buy\")\n",
            "(\"Shopping\", \"List\", \"\", \"eggs\", \"buy\")\n",
            "(\"Shopping\", \"List\", \"\", \"bread\", \"buy\")\n",
            "========================================\n",
            "\n",
            "\n",
            ">>> INPUT: need to sell old video game, chair\n",
            ">>> OUTPUT:\n",
            "(\"Home\", \"List\", \"\", \"sell\", \"video game\")\n",
            "(\"Home\", \"List\", \"\", \"sell\", \"chair\")\n",
            "========================================\n",
            "\n",
            "\n",
            ">>> INPUT: december receipts for gym: yoga, ballet, ??\n",
            ">>> OUTPUT:\n",
            "(\"Finance\", \"Document\", \"gym\", \"december receipts\", \"yoga\")\n",
            "(\"Finance\", \"Document\", \"gym\", \"december receipts\", \"ballet\")\n",
            "(\"Finance\", \"Document\", \"gym\", \"december receipts\", \"??\")\n",
            "========================================\n",
            "\n",
            "\n",
            ">>> INPUT: book with KWG the hardware setup\n",
            ">>> OUTPUT:\n",
            "(\"Other\", \"Document\", \"KWG\", \"hardware setup\", \"book\")\n",
            "========================================\n",
            "\n",
            "\n",
            ">>> INPUT: dog day with the foreign visitors\n",
            ">>> OUTPUT:\n",
            "(\"Pets\", \"Reminder\", \"foreign visitors\", \"dog day\", \"\")\n",
            "========================================\n",
            "\n",
            "\n",
            ">>> INPUT: event support: we failed :-(\n",
            ">>> OUTPUT:\n",
            "(\"Other\", \"Note\", \"event support\", \"failure\", \"we failed :-(\")\n",
            "========================================\n",
            "\n",
            "\n",
            ">>> INPUT: floor layout: we forgot various details!!\n",
            ">>> OUTPUT:\n",
            "(\"Home\", \"Document\", \"\", \"floor layout\", \"we forgot various details!!\")\n",
            "========================================\n",
            "\n",
            "\n",
            ">>> INPUT: first aid kit in the reception\n",
            ">>> OUTPUT:\n",
            "(\"Home\", \"List\", \"\", \"first aid kit\", \"reception\")\n",
            "========================================\n",
            "\n",
            "\n",
            ">>> INPUT: ask the pediatrician about when to start brushing teeth\n",
            ">>> OUTPUT:\n",
            "(\"Health\", \"Doubt\", \"pediatrician\", \"brushing teeth\", \"when to start\")\n",
            "========================================\n",
            "\n",
            "\n"
          ]
        },
        {
          "output_type": "execute_result",
          "data": {
            "text/plain": [
              "['(\"Health\", \"Price\", \"\", \"flu shot\", \"$80\")',\n",
              " '(\"Work\", \"List\", \"boss\", \"likes\", \"cricket\")\\n(\"Work\", \"List\", \"boss\", \"likes\", \"science\")\\n(\"Work\", \"List\", \"boss\", \"likes\", \"vegetarian food\")',\n",
              " '(\"Home\", \"Wish\", \"wife\", \"vegetarian food book\", \"\")',\n",
              " '(\"Work\", \"Email\", \"sales guy\", \"email\", \"jp@example.com\")',\n",
              " '(\"Friends\", \"Email\", \"Vanessa\", \"Vanessa\\'s email\", \"vanessa@outlook.com\")\\n(\"Pendency\", \"Reminder\", \"\", \"send ppts\", \"Vanessa\")',\n",
              " '(\"Friends\", \"Phone\", \"pedro\", \"whatsapp\", \"+55 11 27670-0987\")',\n",
              " '(\"Shopping\", \"List\", \"\", \"milk\", \"buy\")\\n(\"Shopping\", \"List\", \"\", \"eggs\", \"buy\")\\n(\"Shopping\", \"List\", \"\", \"bread\", \"buy\")',\n",
              " '(\"Home\", \"List\", \"\", \"sell\", \"video game\")\\n(\"Home\", \"List\", \"\", \"sell\", \"chair\")',\n",
              " '(\"Finance\", \"Document\", \"gym\", \"december receipts\", \"yoga\")\\n(\"Finance\", \"Document\", \"gym\", \"december receipts\", \"ballet\")\\n(\"Finance\", \"Document\", \"gym\", \"december receipts\", \"??\")',\n",
              " '(\"Other\", \"Document\", \"KWG\", \"hardware setup\", \"book\")',\n",
              " '(\"Pets\", \"Reminder\", \"foreign visitors\", \"dog day\", \"\")',\n",
              " '(\"Other\", \"Note\", \"event support\", \"failure\", \"we failed :-(\")',\n",
              " '(\"Home\", \"Document\", \"\", \"floor layout\", \"we forgot various details!!\")',\n",
              " '(\"Home\", \"List\", \"\", \"first aid kit\", \"reception\")',\n",
              " '(\"Health\", \"Doubt\", \"pediatrician\", \"brushing teeth\", \"when to start\")']"
            ]
          },
          "metadata": {},
          "execution_count": 17
        }
      ],
      "source": [
        "# decreasing temperature and keeping prompt the same\n",
        "apply_to_examples(example_information_to_save, extraction_prompt_5, temperature=0.1) "
      ]
    },
    {
      "cell_type": "markdown",
      "metadata": {
        "id": "4hRxLk3Tt90A"
      },
      "source": [
        "That looks very good now!\n",
        "\n",
        "To address the specific requirement of having a type of \"note\" and people as \"self\" for certain instances, such as in the case of \"first aid kit,\" there is need to make the necessary adjustments."
      ]
    },
    {
      "cell_type": "markdown",
      "source": [
        "#### Prompt 6\n",
        "\n",
        "To rectify the previously mentioned issue, adding additional example to reinforce the desired pattern. "
      ],
      "metadata": {
        "id": "vMGpMwQB4NfF"
      }
    },
    {
      "cell_type": "code",
      "source": [
        "def extraction_prompt_6(x, categories=[\"Family\", \"Work\", \"Friends\", \"Shopping\", \n",
        "                                       \"Health\", \"Finance\", \"Travel\", \"Home\", \n",
        "                                       \"Pets\", \"Hobbies\", \"Other\"]):\n",
        "\n",
        "    prompt =\\\n",
        "f\"\"\"\n",
        "Extract pieces of personal information, like phone numbers, email addresses, names, trivia, reminders, etc., as tuples with the following format: (Category, Type, People, Key, Value)\n",
        "Assume everything mentioned refers to the same thing. Constraints:\n",
        "  - Allowed Categories: {', '.join(categories)}\n",
        "  - Allowed Types: \"List\", \"Email\", \"Phone\", \"Address\", \"Document\", \"Pendency\", \"Price\", \"Reminder\", \"Note\", \"Doubt\", \"Wish\", \"Other\"\n",
        "  - People contain the name or description of the people or organizations concerned, or is empty if no person or organization is mentioned.\n",
        "  \n",
        "Example input: \"Mom's phone number is 555-555-5555\"\n",
        "Example output: (\"Family\", \"Phone\", \"mom\", \"mom's number\", \"555-555-5555\")\n",
        "\n",
        "Example input: \"email of the building administration = adm@example.com\"\n",
        "Example output: (\"Work\", \"Email\", \"building administration\", \"email\", \"adm@example.com\")\n",
        "\n",
        "Example input: \"Need to do: lab work, ultrasound, buy aspirin\"\n",
        "Example output: \n",
        "(\"Health\", \"List\", \"Self\", \"to do\", \"lab work\")\n",
        "(\"Health\", \"List\", \"Self\", \"to do\", \"ultrasound\")\n",
        "(\"Shopping\", \"List\", \"Self\", \"aspirin\", \"buy\")\t\n",
        "\n",
        "Example input: first aid kit in the reception\n",
        "Example output:\n",
        "(\"Home\", \"Note\", \"\", \"first aid kit\", \"reception\")\n",
        "\n",
        "Input: {x}\n",
        "Output: \n",
        "\"\"\"\n",
        "    return prompt "
      ],
      "metadata": {
        "id": "HZD143pA1PeP"
      },
      "execution_count": null,
      "outputs": []
    },
    {
      "cell_type": "code",
      "source": [
        "apply_to_examples(example_information_to_save, extraction_prompt_6, temperature=0.1) "
      ],
      "metadata": {
        "colab": {
          "base_uri": "https://localhost:8080/"
        },
        "id": "RBWlDpcN1c_-",
        "outputId": "fc6616b2-43ec-4be3-bb51-15adc3373fc6"
      },
      "execution_count": null,
      "outputs": [
        {
          "output_type": "stream",
          "name": "stdout",
          "text": [
            ">>> INPUT: Flu shot cost = $80\n",
            ">>> OUTPUT:\n",
            "(\"Health\", \"Price\", \"\", \"flu shot\", \"$80\")\n",
            "========================================\n",
            "\n",
            "\n",
            ">>> INPUT: things my boss likes: cricket, science and vegetarian food\n",
            ">>> OUTPUT:\n",
            "(\"Work\", \"List\", \"boss\", \"likes\", \"cricket\")\n",
            "(\"Work\", \"List\", \"boss\", \"likes\", \"science\")\n",
            "(\"Work\", \"List\", \"boss\", \"likes\", \"vegetarian food\")\n",
            "========================================\n",
            "\n",
            "\n",
            ">>> INPUT: my wife wants a vegetarian food book\n",
            ">>> OUTPUT:\n",
            "(\"Hobbies\", \"Wish\", \"wife\", \"vegetarian food book\", \"\")\n",
            "========================================\n",
            "\n",
            "\n",
            ">>> INPUT: sales guy email = jp@example.com\n",
            ">>> OUTPUT:\n",
            "(\"Work\", \"Email\", \"sales guy\", \"email\", \"jp@example.com\")\n",
            "========================================\n",
            "\n",
            "\n",
            ">>> INPUT: vanessa's email vanessa@outlook.com, rember to send the ppts she asked\n",
            ">>> OUTPUT:\n",
            "(\"Friends\", \"Email\", \"Vanessa\", \"Vanessa's email\", \"vanessa@outlook.com\")\n",
            "(\"Friends\", \"Reminder\", \"Vanessa\", \"send ppts\", \"\")\n",
            "========================================\n",
            "\n",
            "\n",
            ">>> INPUT: +55 11 27670-0987 -> pedro whatsapp\n",
            ">>> OUTPUT:\n",
            "(\"Friends\", \"Phone\", \"Pedro\", \"WhatsApp\", \"+55 11 27670-0987\")\n",
            "========================================\n",
            "\n",
            "\n",
            ">>> INPUT: need to buy milk, eggs and bread\n",
            ">>> OUTPUT:\n",
            "(\"Shopping\", \"List\", \"Self\", \"milk\", \"buy\")\n",
            "(\"Shopping\", \"List\", \"Self\", \"eggs\", \"buy\")\n",
            "(\"Shopping\", \"List\", \"Self\", \"bread\", \"buy\")\n",
            "========================================\n",
            "\n",
            "\n",
            ">>> INPUT: need to sell old video game, chair\n",
            ">>> OUTPUT:\n",
            "(\"Shopping\", \"List\", \"Self\", \"video game\", \"sell\")\n",
            "(\"Shopping\", \"List\", \"Self\", \"chair\", \"sell\")\n",
            "========================================\n",
            "\n",
            "\n",
            ">>> INPUT: december receipts for gym: yoga, ballet, ??\n",
            ">>> OUTPUT:\n",
            "(\"Finance\", \"Document\", \"gym\", \"receipts\", \"december\")\n",
            "(\"Finance\", \"List\", \"gym\", \"yoga\", \"\")\n",
            "(\"Finance\", \"List\", \"gym\", \"ballet\", \"\")\n",
            "(\"Finance\", \"Doubt\", \"gym\", \"??\", \"\")\n",
            "========================================\n",
            "\n",
            "\n",
            ">>> INPUT: book with KWG the hardware setup\n",
            ">>> OUTPUT:\n",
            "(\"Hobbies\", \"Document\", \"KWG\", \"hardware setup\", \"book\")\n",
            "========================================\n",
            "\n",
            "\n",
            ">>> INPUT: dog day with the foreign visitors\n",
            ">>> OUTPUT:\n",
            "(\"Pets\", \"Reminder\", \"foreign visitors\", \"dog day\", \"\")\n",
            "========================================\n",
            "\n",
            "\n",
            ">>> INPUT: event support: we failed :-(\n",
            ">>> OUTPUT:\n",
            "(\"Other\", \"Doubt\", \"event support\", \"failed\", \":-(\")\n",
            "========================================\n",
            "\n",
            "\n",
            ">>> INPUT: floor layout: we forgot various details!!\n",
            ">>> OUTPUT:\n",
            "(\"Home\", \"Doubt\", \"\", \"floor layout\", \"various details\")\n",
            "========================================\n",
            "\n",
            "\n",
            ">>> INPUT: first aid kit in the reception\n",
            ">>> OUTPUT:\n",
            "(\"Home\", \"Note\", \"\", \"first aid kit\", \"reception\")\n",
            "========================================\n",
            "\n",
            "\n",
            ">>> INPUT: ask the pediatrician about when to start brushing teeth\n",
            ">>> OUTPUT:\n",
            "(\"Health\", \"Doubt\", \"pediatrician\", \"brushing teeth\", \"when to start\")\n",
            "========================================\n",
            "\n",
            "\n"
          ]
        },
        {
          "output_type": "execute_result",
          "data": {
            "text/plain": [
              "['(\"Health\", \"Price\", \"\", \"flu shot\", \"$80\")',\n",
              " '(\"Work\", \"List\", \"boss\", \"likes\", \"cricket\")\\n(\"Work\", \"List\", \"boss\", \"likes\", \"science\")\\n(\"Work\", \"List\", \"boss\", \"likes\", \"vegetarian food\")',\n",
              " '(\"Hobbies\", \"Wish\", \"wife\", \"vegetarian food book\", \"\")',\n",
              " '(\"Work\", \"Email\", \"sales guy\", \"email\", \"jp@example.com\")',\n",
              " '(\"Friends\", \"Email\", \"Vanessa\", \"Vanessa\\'s email\", \"vanessa@outlook.com\")\\n(\"Friends\", \"Reminder\", \"Vanessa\", \"send ppts\", \"\")',\n",
              " '(\"Friends\", \"Phone\", \"Pedro\", \"WhatsApp\", \"+55 11 27670-0987\")',\n",
              " '(\"Shopping\", \"List\", \"Self\", \"milk\", \"buy\")\\n(\"Shopping\", \"List\", \"Self\", \"eggs\", \"buy\")\\n(\"Shopping\", \"List\", \"Self\", \"bread\", \"buy\")',\n",
              " '(\"Shopping\", \"List\", \"Self\", \"video game\", \"sell\")\\n(\"Shopping\", \"List\", \"Self\", \"chair\", \"sell\")',\n",
              " '(\"Finance\", \"Document\", \"gym\", \"receipts\", \"december\")\\n(\"Finance\", \"List\", \"gym\", \"yoga\", \"\")\\n(\"Finance\", \"List\", \"gym\", \"ballet\", \"\")\\n(\"Finance\", \"Doubt\", \"gym\", \"??\", \"\")',\n",
              " '(\"Hobbies\", \"Document\", \"KWG\", \"hardware setup\", \"book\")',\n",
              " '(\"Pets\", \"Reminder\", \"foreign visitors\", \"dog day\", \"\")',\n",
              " '(\"Other\", \"Doubt\", \"event support\", \"failed\", \":-(\")',\n",
              " '(\"Home\", \"Doubt\", \"\", \"floor layout\", \"various details\")',\n",
              " '(\"Home\", \"Note\", \"\", \"first aid kit\", \"reception\")',\n",
              " '(\"Health\", \"Doubt\", \"pediatrician\", \"brushing teeth\", \"when to start\")']"
            ]
          },
          "metadata": {},
          "execution_count": 19
        }
      ]
    },
    {
      "cell_type": "markdown",
      "source": [
        "The identified issue has been successfully resolved.\n",
        "\n",
        "However, the categorization of \"event support\" as a \"Doubt\" is incorrect; it should instead be classified as a \"Note\". Also, the example of 'december receipts' has gone rogue."
      ],
      "metadata": {
        "id": "N-uDK2eu5JxH"
      }
    },
    {
      "cell_type": "markdown",
      "source": [
        "#### Prompt 7\n",
        "\n",
        "Adding additional examples to fix the same."
      ],
      "metadata": {
        "id": "B4LQtg7s4zDZ"
      }
    },
    {
      "cell_type": "code",
      "source": [
        "def extraction_prompt_7(x, categories=[\"Family\", \"Work\", \"Friends\", \"Shopping\", \n",
        "                                       \"Health\", \"Finance\", \"Travel\", \"Home\", \n",
        "                                       \"Pets\", \"Hobbies\", \"Other\"]):\n",
        "\n",
        "    prompt =\\\n",
        "f\"\"\"\n",
        "Extract pieces of personal information, like phone numbers, email addresses, names, trivia, reminders, etc., as tuples with the following format: (Category, Type, People, Key, Value)\n",
        "Assume everything mentioned refers to the same thing. Constraints:\n",
        "  - Allowed Categories: {', '.join(categories)}\n",
        "  - Allowed Types: \"List\", \"Email\", \"Phone\", \"Address\", \"Document\", \"Pendency\", \"Price\", \"Reminder\", \"Note\", \"Doubt\", \"Wish\", \"Other\"\n",
        "  - People contain the name or description of the people or organizations concerned, or is empty if no person or organization is mentioned.\n",
        "  \n",
        "Example input: \"Mom's phone number is 555-555-5555\"\n",
        "Example output: (\"Family\", \"Phone\", \"mom\", \"mom's number\", \"555-555-5555\")\n",
        "\n",
        "Example input: \"email of the building administration = adm@example.com\"\n",
        "Example output: (\"Work\", \"Email\", \"building administration\", \"email\", \"adm@example.com\")\n",
        "\n",
        "Example input: \"Need to do: lab work, ultrasound, buy aspirin\"\n",
        "Example output: \n",
        "(\"Health\", \"List\", \"Self\", \"to do\", \"lab work\")\n",
        "(\"Health\", \"List\", \"Self\", \"to do\", \"ultrasound\")\n",
        "(\"Shopping\", \"List\", \"Self\", \"aspirin\", \"buy\")\t\n",
        "\n",
        "Example input: event support: we failed :-(\n",
        "Example output: \n",
        "(\"Other\", \"Note\", \"event support\", \"failed\", \"we failed :-(\")\n",
        "\n",
        "Example input: first aid kit in the reception\n",
        "Example output:\n",
        "(\"Home\", \"Note\", \"\", \"first aid kit\", \"reception\")\n",
        "\n",
        "Example input: december receipts for gym: yoga, ballet, ??\n",
        "Example output:\n",
        "(\"Finance\", \"Document\", \"gym\", \"december receipts\", \"yoga\")\n",
        "(\"Finance\", \"Document\", \"gym\", \"december receipts\", \"ballet\")\n",
        "(\"Finance\", \"Document\", \"gym\", \"december receipts\", \"??\")\n",
        "\n",
        "Input: {x}\n",
        "Output: \n",
        "\"\"\"\n",
        "    return prompt "
      ],
      "metadata": {
        "id": "LShnHgFQ3vfr"
      },
      "execution_count": null,
      "outputs": []
    },
    {
      "cell_type": "code",
      "source": [
        "apply_to_examples(example_information_to_save, extraction_prompt_7, temperature=0.1) "
      ],
      "metadata": {
        "colab": {
          "base_uri": "https://localhost:8080/"
        },
        "id": "mQOwT3Sw3x1N",
        "outputId": "fd6c2060-7ff4-4ebc-9e7c-9d14e78d81f0"
      },
      "execution_count": null,
      "outputs": [
        {
          "output_type": "stream",
          "name": "stdout",
          "text": [
            ">>> INPUT: Flu shot cost = $80\n",
            ">>> OUTPUT:\n",
            "(\"Health\", \"Price\", \"\", \"flu shot cost\", \"$80\")\n",
            "========================================\n",
            "\n",
            "\n",
            ">>> INPUT: things my boss likes: cricket, science and vegetarian food\n",
            ">>> OUTPUT:\n",
            "(\"Work\", \"List\", \"boss\", \"likes\", \"cricket\")\n",
            "(\"Work\", \"List\", \"boss\", \"likes\", \"science\")\n",
            "(\"Work\", \"List\", \"boss\", \"likes\", \"vegetarian food\")\n",
            "========================================\n",
            "\n",
            "\n",
            ">>> INPUT: my wife wants a vegetarian food book\n",
            ">>> OUTPUT:\n",
            "(\"Shopping\", \"Wish\", \"wife\", \"vegetarian food book\", \"\")\n",
            "========================================\n",
            "\n",
            "\n",
            ">>> INPUT: sales guy email = jp@example.com\n",
            ">>> OUTPUT:\n",
            "(\"Work\", \"Email\", \"sales guy\", \"email\", \"jp@example.com\")\n",
            "========================================\n",
            "\n",
            "\n",
            ">>> INPUT: vanessa's email vanessa@outlook.com, rember to send the ppts she asked\n",
            ">>> OUTPUT:\n",
            "(\"Friends\", \"Email\", \"vanessa\", \"vanessa's email\", \"vanessa@outlook.com\")\n",
            "(\"Friends\", \"Reminder\", \"\", \"send ppts\", \"rember to send the ppts she asked\")\n",
            "========================================\n",
            "\n",
            "\n",
            ">>> INPUT: +55 11 27670-0987 -> pedro whatsapp\n",
            ">>> OUTPUT:\n",
            "(\"Friends\", \"Phone\", \"Pedro\", \"Whatsapp\", \"+55 11 27670-0987\")\n",
            "========================================\n",
            "\n",
            "\n",
            ">>> INPUT: need to buy milk, eggs and bread\n",
            ">>> OUTPUT:\n",
            "(\"Shopping\", \"List\", \"Self\", \"milk\", \"buy\")\n",
            "(\"Shopping\", \"List\", \"Self\", \"eggs\", \"buy\")\n",
            "(\"Shopping\", \"List\", \"Self\", \"bread\", \"buy\")\n",
            "========================================\n",
            "\n",
            "\n",
            ">>> INPUT: need to sell old video game, chair\n",
            ">>> OUTPUT:\n",
            "(\"Shopping\", \"List\", \"Self\", \"sell\", \"video game\")\n",
            "(\"Shopping\", \"List\", \"Self\", \"sell\", \"chair\")\n",
            "========================================\n",
            "\n",
            "\n",
            ">>> INPUT: december receipts for gym: yoga, ballet, ??\n",
            ">>> OUTPUT:\n",
            "(\"Finance\", \"Document\", \"gym\", \"december receipts\", \"yoga\")\n",
            "(\"Finance\", \"Document\", \"gym\", \"december receipts\", \"ballet\")\n",
            "(\"Finance\", \"Document\", \"gym\", \"december receipts\", \"??\")\n",
            "========================================\n",
            "\n",
            "\n",
            ">>> INPUT: book with KWG the hardware setup\n",
            ">>> OUTPUT:\n",
            "(\"Other\", \"Document\", \"KWG\", \"hardware setup\", \"book\")\n",
            "========================================\n",
            "\n",
            "\n",
            ">>> INPUT: dog day with the foreign visitors\n",
            ">>> OUTPUT:\n",
            "(\"Pets\", \"Reminder\", \"foreign visitors\", \"dog day\", \"\")\n",
            "========================================\n",
            "\n",
            "\n",
            ">>> INPUT: event support: we failed :-(\n",
            ">>> OUTPUT:\n",
            "(\"Other\", \"Note\", \"event support\", \"failed\", \"we failed :-(\")\n",
            "========================================\n",
            "\n",
            "\n",
            ">>> INPUT: floor layout: we forgot various details!!\n",
            ">>> OUTPUT:\n",
            "(\"Home\", \"Note\", \"\", \"floor layout\", \"we forgot various details!!\")\n",
            "========================================\n",
            "\n",
            "\n",
            ">>> INPUT: first aid kit in the reception\n",
            ">>> OUTPUT:\n",
            "(\"Home\", \"Note\", \"\", \"first aid kit\", \"reception\")\n",
            "========================================\n",
            "\n",
            "\n",
            ">>> INPUT: ask the pediatrician about when to start brushing teeth\n",
            ">>> OUTPUT:\n",
            "(\"Health\", \"Doubt\", \"pediatrician\", \"brushing teeth\", \"when to start\")\n",
            "========================================\n",
            "\n",
            "\n"
          ]
        },
        {
          "output_type": "execute_result",
          "data": {
            "text/plain": [
              "['(\"Health\", \"Price\", \"\", \"flu shot cost\", \"$80\")',\n",
              " '(\"Work\", \"List\", \"boss\", \"likes\", \"cricket\")\\n(\"Work\", \"List\", \"boss\", \"likes\", \"science\")\\n(\"Work\", \"List\", \"boss\", \"likes\", \"vegetarian food\")',\n",
              " '(\"Shopping\", \"Wish\", \"wife\", \"vegetarian food book\", \"\")',\n",
              " '(\"Work\", \"Email\", \"sales guy\", \"email\", \"jp@example.com\")',\n",
              " '(\"Friends\", \"Email\", \"vanessa\", \"vanessa\\'s email\", \"vanessa@outlook.com\")\\n(\"Friends\", \"Reminder\", \"\", \"send ppts\", \"rember to send the ppts she asked\")',\n",
              " '(\"Friends\", \"Phone\", \"Pedro\", \"Whatsapp\", \"+55 11 27670-0987\")',\n",
              " '(\"Shopping\", \"List\", \"Self\", \"milk\", \"buy\")\\n(\"Shopping\", \"List\", \"Self\", \"eggs\", \"buy\")\\n(\"Shopping\", \"List\", \"Self\", \"bread\", \"buy\")',\n",
              " '(\"Shopping\", \"List\", \"Self\", \"sell\", \"video game\")\\n(\"Shopping\", \"List\", \"Self\", \"sell\", \"chair\")',\n",
              " '(\"Finance\", \"Document\", \"gym\", \"december receipts\", \"yoga\")\\n(\"Finance\", \"Document\", \"gym\", \"december receipts\", \"ballet\")\\n(\"Finance\", \"Document\", \"gym\", \"december receipts\", \"??\")',\n",
              " '(\"Other\", \"Document\", \"KWG\", \"hardware setup\", \"book\")',\n",
              " '(\"Pets\", \"Reminder\", \"foreign visitors\", \"dog day\", \"\")',\n",
              " '(\"Other\", \"Note\", \"event support\", \"failed\", \"we failed :-(\")',\n",
              " '(\"Home\", \"Note\", \"\", \"floor layout\", \"we forgot various details!!\")',\n",
              " '(\"Home\", \"Note\", \"\", \"first aid kit\", \"reception\")',\n",
              " '(\"Health\", \"Doubt\", \"pediatrician\", \"brushing teeth\", \"when to start\")']"
            ]
          },
          "metadata": {},
          "execution_count": 21
        }
      ]
    },
    {
      "cell_type": "markdown",
      "source": [
        "The output looks much better."
      ],
      "metadata": {
        "id": "GWXmTpuj8yS8"
      }
    },
    {
      "cell_type": "markdown",
      "source": [
        "#### Prompt 8\n",
        "\n",
        "Tweaking the prompt a little."
      ],
      "metadata": {
        "id": "iPscBM9d8tju"
      }
    },
    {
      "cell_type": "code",
      "source": [
        "def extraction_prompt_8(x, categories=[\"Family\", \"Work\", \"Friends\", \"Shopping\", \n",
        "                                       \"Health\", \"Finance\", \"Travel\", \"Home\", \n",
        "                                       \"Pets\", \"Hobbies\", \"Other\"]):\n",
        "\n",
        "    prompt =\\\n",
        "f\"\"\"\n",
        "You are tasked with extracting pieces of personal information from various inputs, such as phone numbers, email addresses, names, trivia, reminders, etc. Your goal is to extract and categorize these pieces of information into structured tuples.\n",
        "Extract the information as tuples with the following format: (Category, Type, People, Key, Value). \n",
        "Assume everything mentioned refers to the same thing. \n",
        "The extracted information should be categorized according to the allowed categories and types specified below.\n",
        "\n",
        "Constraints:\n",
        "  - Allowed Categories: {', '.join(categories)}\n",
        "  - Allowed Types: \"List\", \"Email\", \"Phone\", \"Address\", \"Document\", \"Pendency\", \"Price\", \"Reminder\", \"Note\", \"Doubt\", \"Wish\", \"Other\"\n",
        "  - People contain the name or description of the people or organizations concerned, or is empty if no person or organization is mentioned.\n",
        "  \n",
        "Example input: \"Mom's phone number is 555-555-5555\"\n",
        "Example output: (\"Family\", \"Phone\", \"mom\", \"mom's number\", \"555-555-5555\")\n",
        "\n",
        "Example input: \"email of the building administration = adm@example.com\"\n",
        "Example output: (\"Work\", \"Email\", \"building administration\", \"email\", \"adm@example.com\")\n",
        "\n",
        "Example input: \"Need to do: lab work, ultrasound, buy aspirin\"\n",
        "Example output: \n",
        "(\"Health\", \"List\", \"Self\", \"to do\", \"lab work\")\n",
        "(\"Health\", \"List\", \"Self\", \"to do\", \"ultrasound\")\n",
        "(\"Shopping\", \"List\", \"Self\", \"aspirin\", \"buy\")\t\n",
        "\n",
        "Example input: event support: we failed :-(\n",
        "Example output: \n",
        "(\"Other\", \"Note\", \"event support\", \"failed\", \"we failed :-(\")\n",
        "\n",
        "Example input: first aid kit in the reception\n",
        "Example output:\n",
        "(\"Home\", \"Note\", \"\", \"first aid kit\", \"reception\")\n",
        "\n",
        "Example input: december receipts for gym: yoga, ballet, ??\n",
        "Example output:\n",
        "(\"Finance\", \"Document\", \"gym\", \"december receipts\", \"yoga\")\n",
        "(\"Finance\", \"Document\", \"gym\", \"december receipts\", \"ballet\")\n",
        "(\"Finance\", \"Document\", \"gym\", \"december receipts\", \"??\")\n",
        "\n",
        "Input: {x}\n",
        "Output: \n",
        "\"\"\"\n",
        "    return prompt "
      ],
      "metadata": {
        "id": "-hYLoa_e7Z9O"
      },
      "execution_count": null,
      "outputs": []
    },
    {
      "cell_type": "code",
      "source": [
        "apply_to_examples(example_information_to_save, extraction_prompt_8, temperature=0.1) "
      ],
      "metadata": {
        "colab": {
          "base_uri": "https://localhost:8080/"
        },
        "id": "cH9o2Yb-8DlP",
        "outputId": "c2875096-2583-4553-8581-2fb8265e3e1c"
      },
      "execution_count": null,
      "outputs": [
        {
          "output_type": "stream",
          "name": "stdout",
          "text": [
            ">>> INPUT: Flu shot cost = $80\n",
            ">>> OUTPUT:\n",
            "(\"Health\", \"Price\", \"\", \"flu shot cost\", \"$80\")\n",
            "========================================\n",
            "\n",
            "\n",
            ">>> INPUT: things my boss likes: cricket, science and vegetarian food\n",
            ">>> OUTPUT:\n",
            "(\"Work\", \"List\", \"boss\", \"likes\", \"cricket\")\n",
            "(\"Work\", \"List\", \"boss\", \"likes\", \"science\")\n",
            "(\"Work\", \"List\", \"boss\", \"likes\", \"vegetarian food\")\n",
            "========================================\n",
            "\n",
            "\n",
            ">>> INPUT: my wife wants a vegetarian food book\n",
            ">>> OUTPUT:\n",
            "(\"Shopping\", \"Wish\", \"wife\", \"vegetarian food book\", \"my wife wants\")\n",
            "========================================\n",
            "\n",
            "\n",
            ">>> INPUT: sales guy email = jp@example.com\n",
            ">>> OUTPUT:\n",
            "(\"Work\", \"Email\", \"sales guy\", \"email\", \"jp@example.com\")\n",
            "========================================\n",
            "\n",
            "\n",
            ">>> INPUT: vanessa's email vanessa@outlook.com, rember to send the ppts she asked\n",
            ">>> OUTPUT:\n",
            "(\"Work\", \"Email\", \"Vanessa\", \"Vanessa's email\", \"vanessa@outlook.com\")\n",
            "(\"Work\", \"Reminder\", \"Vanessa\", \"send ppts\", \"she asked\")\n",
            "========================================\n",
            "\n",
            "\n",
            ">>> INPUT: +55 11 27670-0987 -> pedro whatsapp\n",
            ">>> OUTPUT:\n",
            "(\"Friends\", \"Phone\", \"Pedro\", \"WhatsApp\", \"+55 11 27670-0987\")\n",
            "========================================\n",
            "\n",
            "\n",
            ">>> INPUT: need to buy milk, eggs and bread\n",
            ">>> OUTPUT:\n",
            "(\"Shopping\", \"List\", \"Self\", \"milk\", \"buy\")\n",
            "(\"Shopping\", \"List\", \"Self\", \"eggs\", \"buy\")\n",
            "(\"Shopping\", \"List\", \"Self\", \"bread\", \"buy\")\n",
            "========================================\n",
            "\n",
            "\n",
            ">>> INPUT: need to sell old video game, chair\n",
            ">>> OUTPUT:\n",
            "(\"Shopping\", \"List\", \"Self\", \"sell\", \"old video game\")\n",
            "(\"Shopping\", \"List\", \"Self\", \"sell\", \"chair\")\n",
            "========================================\n",
            "\n",
            "\n",
            ">>> INPUT: december receipts for gym: yoga, ballet, ??\n",
            ">>> OUTPUT:\n",
            "(\"Finance\", \"Document\", \"gym\", \"december receipts\", \"yoga\")\n",
            "(\"Finance\", \"Document\", \"gym\", \"december receipts\", \"ballet\")\n",
            "(\"Finance\", \"Document\", \"gym\", \"december receipts\", \"??\")\n",
            "========================================\n",
            "\n",
            "\n",
            ">>> INPUT: book with KWG the hardware setup\n",
            ">>> OUTPUT:\n",
            "(\"Other\", \"Document\", \"KWG\", \"hardware setup\", \"book\")\n",
            "========================================\n",
            "\n",
            "\n",
            ">>> INPUT: dog day with the foreign visitors\n",
            ">>> OUTPUT:\n",
            "(\"Pets\", \"Reminder\", \"foreign visitors\", \"dog day\", \"\")\n",
            "========================================\n",
            "\n",
            "\n",
            ">>> INPUT: event support: we failed :-(\n",
            ">>> OUTPUT:\n",
            "(\"Other\", \"Note\", \"event support\", \"failed\", \"we failed :-(\")\n",
            "========================================\n",
            "\n",
            "\n",
            ">>> INPUT: floor layout: we forgot various details!!\n",
            ">>> OUTPUT:\n",
            "(\"Home\", \"Note\", \"\", \"floor layout\", \"we forgot various details!!\")\n",
            "========================================\n",
            "\n",
            "\n",
            ">>> INPUT: first aid kit in the reception\n",
            ">>> OUTPUT:\n",
            "(\"Home\", \"Note\", \"\", \"first aid kit\", \"reception\")\n",
            "========================================\n",
            "\n",
            "\n",
            ">>> INPUT: ask the pediatrician about when to start brushing teeth\n",
            ">>> OUTPUT:\n",
            "(\"Health\", \"Doubt\", \"pediatrician\", \"brushing teeth\", \"when to start\")\n",
            "========================================\n",
            "\n",
            "\n"
          ]
        },
        {
          "output_type": "execute_result",
          "data": {
            "text/plain": [
              "['(\"Health\", \"Price\", \"\", \"flu shot cost\", \"$80\")',\n",
              " '(\"Work\", \"List\", \"boss\", \"likes\", \"cricket\")\\n(\"Work\", \"List\", \"boss\", \"likes\", \"science\")\\n(\"Work\", \"List\", \"boss\", \"likes\", \"vegetarian food\")',\n",
              " '(\"Shopping\", \"Wish\", \"wife\", \"vegetarian food book\", \"my wife wants\")',\n",
              " '(\"Work\", \"Email\", \"sales guy\", \"email\", \"jp@example.com\")',\n",
              " '(\"Work\", \"Email\", \"Vanessa\", \"Vanessa\\'s email\", \"vanessa@outlook.com\")\\n(\"Work\", \"Reminder\", \"Vanessa\", \"send ppts\", \"she asked\")',\n",
              " '(\"Friends\", \"Phone\", \"Pedro\", \"WhatsApp\", \"+55 11 27670-0987\")',\n",
              " '(\"Shopping\", \"List\", \"Self\", \"milk\", \"buy\")\\n(\"Shopping\", \"List\", \"Self\", \"eggs\", \"buy\")\\n(\"Shopping\", \"List\", \"Self\", \"bread\", \"buy\")',\n",
              " '(\"Shopping\", \"List\", \"Self\", \"sell\", \"old video game\")\\n(\"Shopping\", \"List\", \"Self\", \"sell\", \"chair\")',\n",
              " '(\"Finance\", \"Document\", \"gym\", \"december receipts\", \"yoga\")\\n(\"Finance\", \"Document\", \"gym\", \"december receipts\", \"ballet\")\\n(\"Finance\", \"Document\", \"gym\", \"december receipts\", \"??\")',\n",
              " '(\"Other\", \"Document\", \"KWG\", \"hardware setup\", \"book\")',\n",
              " '(\"Pets\", \"Reminder\", \"foreign visitors\", \"dog day\", \"\")',\n",
              " '(\"Other\", \"Note\", \"event support\", \"failed\", \"we failed :-(\")',\n",
              " '(\"Home\", \"Note\", \"\", \"floor layout\", \"we forgot various details!!\")',\n",
              " '(\"Home\", \"Note\", \"\", \"first aid kit\", \"reception\")',\n",
              " '(\"Health\", \"Doubt\", \"pediatrician\", \"brushing teeth\", \"when to start\")']"
            ]
          },
          "metadata": {},
          "execution_count": 23
        }
      ]
    },
    {
      "cell_type": "markdown",
      "source": [
        "Observed a slight change in the output of the third example. Rest of the things look the same."
      ],
      "metadata": {
        "id": "mnOKiqZf88uv"
      }
    },
    {
      "cell_type": "markdown",
      "source": [
        "#### Tweaking Parameters\n",
        "\n",
        "Keeping the above prompt as is and tweaking the parameters: 'frequency_penalty' & 'presence_penalty'"
      ],
      "metadata": {
        "id": "zpPhwUrHIKmf"
      }
    },
    {
      "cell_type": "code",
      "source": [
        "apply_to_examples(example_information_to_save, extraction_prompt_8, temperature=0.1, frequency_penalty=-0.5, presence_penalty=-0.6) "
      ],
      "metadata": {
        "colab": {
          "base_uri": "https://localhost:8080/"
        },
        "id": "y1PJGXJ6BbDA",
        "outputId": "4526539a-5b32-486f-989d-bc02ee8db995"
      },
      "execution_count": null,
      "outputs": [
        {
          "output_type": "stream",
          "name": "stdout",
          "text": [
            ">>> INPUT: Flu shot cost = $80\n",
            ">>> OUTPUT:\n",
            "(\"Health\", \"Price\", \"\", \"flu shot\", \"$80\")\n",
            "========================================\n",
            "\n",
            "\n",
            ">>> INPUT: things my boss likes: cricket, science and vegetarian food\n",
            ">>> OUTPUT:\n",
            "(\"Work\", \"List\", \"boss\", \"likes\", \"cricket\")\n",
            "(\"Work\", \"List\", \"boss\", \"likes\", \"science\")\n",
            "(\"Work\", \"List\", \"boss\", \"likes\", \"vegetarian food\")\n",
            "========================================\n",
            "\n",
            "\n",
            ">>> INPUT: my wife wants a vegetarian food book\n",
            ">>> OUTPUT:\n",
            "(\"Shopping\", \"Wish\", \"wife\", \"vegetarian food book\", \"my wife wants\")\n",
            "========================================\n",
            "\n",
            "\n",
            ">>> INPUT: sales guy email = jp@example.com\n",
            ">>> OUTPUT:\n",
            "(\"Work\", \"Email\", \"sales guy\", \"email\", \"jp@example.com\")\n",
            "========================================\n",
            "\n",
            "\n",
            ">>> INPUT: vanessa's email vanessa@outlook.com, rember to send the ppts she asked\n",
            ">>> OUTPUT:\n",
            "(\"Work\", \"Email\", \"vanessa\", \"vanessa's email\", \"vanessa@outlook.com\")\n",
            "(\"Work\", \"Reminder\", \"\", \"send ppts\", \"vanessa asked\")\n",
            "========================================\n",
            "\n",
            "\n",
            ">>> INPUT: +55 11 27670-0987 -> pedro whatsapp\n",
            ">>> OUTPUT:\n",
            "(\"Friends\", \"Phone\", \"Pedro\", \"Pedro's WhatsApp\", \"+55 11 27670-0987\")\n",
            "========================================\n",
            "\n",
            "\n",
            ">>> INPUT: need to buy milk, eggs and bread\n",
            ">>> OUTPUT:\n",
            "(\"Shopping\", \"List\", \"Self\", \"milk\", \"buy\")\n",
            "(\"Shopping\", \"List\", \"Self\", \"eggs\", \"buy\")\n",
            "(\"Shopping\", \"List\", \"Self\", \"bread\", \"buy\")\n",
            "========================================\n",
            "\n",
            "\n",
            ">>> INPUT: need to sell old video game, chair\n",
            ">>> OUTPUT:\n",
            "(\"Shopping\", \"List\", \"Self\", \"sell\", \"old video game\")\n",
            "(\"Shopping\", \"List\", \"Self\", \"sell\", \"chair\")\n",
            "========================================\n",
            "\n",
            "\n",
            ">>> INPUT: december receipts for gym: yoga, ballet, ??\n",
            ">>> OUTPUT:\n",
            "(\"Finance\", \"Document\", \"gym\", \"december receipts\", \"yoga\")\n",
            "(\"Finance\", \"Document\", \"gym\", \"december receipts\", \"ballet\")\n",
            "(\"Finance\", \"Document\", \"gym\", \"december receipts\", \"??\")\n",
            "========================================\n",
            "\n",
            "\n",
            ">>> INPUT: book with KWG the hardware setup\n",
            ">>> OUTPUT:\n",
            "(\"Other\", \"Document\", \"KWG\", \"hardware setup\", \"book\")\n",
            "========================================\n",
            "\n",
            "\n",
            ">>> INPUT: dog day with the foreign visitors\n",
            ">>> OUTPUT:\n",
            "(\"Pets\", \"Reminder\", \"foreign visitors\", \"dog day\", \"\")\n",
            "========================================\n",
            "\n",
            "\n",
            ">>> INPUT: event support: we failed :-(\n",
            ">>> OUTPUT:\n",
            "(\"Other\", \"Note\", \"event support\", \"failed\", \"we failed :-(\")\n",
            "========================================\n",
            "\n",
            "\n",
            ">>> INPUT: floor layout: we forgot various details!!\n",
            ">>> OUTPUT:\n",
            "(\"Home\", \"Note\", \"\", \"floor layout\", \"we forgot various details!!\")\n",
            "========================================\n",
            "\n",
            "\n",
            ">>> INPUT: first aid kit in the reception\n",
            ">>> OUTPUT:\n",
            "(\"Home\", \"Note\", \"\", \"first aid kit\", \"reception\")\n",
            "========================================\n",
            "\n",
            "\n",
            ">>> INPUT: ask the pediatrician about when to start brushing teeth\n",
            ">>> OUTPUT:\n",
            "(\"Health\", \"Doubt\", \"pediatrician\", \"brushing teeth\", \"when to start\")\n",
            "========================================\n",
            "\n",
            "\n"
          ]
        },
        {
          "output_type": "execute_result",
          "data": {
            "text/plain": [
              "['(\"Health\", \"Price\", \"\", \"flu shot\", \"$80\")',\n",
              " '(\"Work\", \"List\", \"boss\", \"likes\", \"cricket\")\\n(\"Work\", \"List\", \"boss\", \"likes\", \"science\")\\n(\"Work\", \"List\", \"boss\", \"likes\", \"vegetarian food\")',\n",
              " '(\"Shopping\", \"Wish\", \"wife\", \"vegetarian food book\", \"my wife wants\")',\n",
              " '(\"Work\", \"Email\", \"sales guy\", \"email\", \"jp@example.com\")',\n",
              " '(\"Work\", \"Email\", \"vanessa\", \"vanessa\\'s email\", \"vanessa@outlook.com\")\\n(\"Work\", \"Reminder\", \"\", \"send ppts\", \"vanessa asked\")',\n",
              " '(\"Friends\", \"Phone\", \"Pedro\", \"Pedro\\'s WhatsApp\", \"+55 11 27670-0987\")',\n",
              " '(\"Shopping\", \"List\", \"Self\", \"milk\", \"buy\")\\n(\"Shopping\", \"List\", \"Self\", \"eggs\", \"buy\")\\n(\"Shopping\", \"List\", \"Self\", \"bread\", \"buy\")',\n",
              " '(\"Shopping\", \"List\", \"Self\", \"sell\", \"old video game\")\\n(\"Shopping\", \"List\", \"Self\", \"sell\", \"chair\")',\n",
              " '(\"Finance\", \"Document\", \"gym\", \"december receipts\", \"yoga\")\\n(\"Finance\", \"Document\", \"gym\", \"december receipts\", \"ballet\")\\n(\"Finance\", \"Document\", \"gym\", \"december receipts\", \"??\")',\n",
              " '(\"Other\", \"Document\", \"KWG\", \"hardware setup\", \"book\")',\n",
              " '(\"Pets\", \"Reminder\", \"foreign visitors\", \"dog day\", \"\")',\n",
              " '(\"Other\", \"Note\", \"event support\", \"failed\", \"we failed :-(\")',\n",
              " '(\"Home\", \"Note\", \"\", \"floor layout\", \"we forgot various details!!\")',\n",
              " '(\"Home\", \"Note\", \"\", \"first aid kit\", \"reception\")',\n",
              " '(\"Health\", \"Doubt\", \"pediatrician\", \"brushing teeth\", \"when to start\")']"
            ]
          },
          "metadata": {},
          "execution_count": 24
        }
      ]
    },
    {
      "cell_type": "markdown",
      "source": [
        "In the output regarding the query of \"venessa asked to send ppts\" (fifth example), it is acknowledged that the 'value' parameter has significantly improved. The modification made to enhance the quality and relevance of the value parameter has yielded more satisfactory results. "
      ],
      "metadata": {
        "id": "XHQ5vFtIIz_G"
      }
    }
  ],
  "metadata": {
    "kernelspec": {
      "display_name": "Python 3",
      "language": "python",
      "name": "python3"
    },
    "language_info": {
      "codemirror_mode": {
        "name": "ipython",
        "version": 3
      },
      "file_extension": ".py",
      "mimetype": "text/x-python",
      "name": "python",
      "nbconvert_exporter": "python",
      "pygments_lexer": "ipython3",
      "version": "3.8.5"
    },
    "orig_nbformat": 4,
    "vscode": {
      "interpreter": {
        "hash": "33a43c2ecf7833757cc12407d902cce5b65eac163e939f096c9930e07c500142"
      }
    },
    "colab": {
      "provenance": [],
      "toc_visible": true
    }
  },
  "nbformat": 4,
  "nbformat_minor": 0
}